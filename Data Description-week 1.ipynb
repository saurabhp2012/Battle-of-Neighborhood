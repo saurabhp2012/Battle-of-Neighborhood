{
 "cells": [
  {
   "cell_type": "markdown",
   "metadata": {},
   "source": [
    "# The Battle of the Neighborhoods - Week 1"
   ]
  },
  {
   "cell_type": "markdown",
   "metadata": {},
   "source": [
    "## DATA DESCRIPTION"
   ]
  },
  {
   "cell_type": "markdown",
   "metadata": {},
   "source": [
    "In this project, we will analyse National Capital of India : ***Delhi***. \n",
    "\n",
    "We will be using the below datasets for analysing Delhi, India"
   ]
  },
  {
   "cell_type": "markdown",
   "metadata": {},
   "source": [
    "***Data 1 : Population Data*** \n",
    "<Br>City  has a total of 11 Boroughs/District and 27 tehsils/neighborhoods. In order to segement the neighborhoods and explore them, we will essentially need a dataset that contains the 11 boroughs and the neighborhoods that exist in each borough.<Br>\n",
    "    Details about Population, Literacy Rate and Sex Ratio of people living in each Tehsil of each District of Delhi is collected from the website of [Census India] (https://www.censusindia.co.in/states/delhi)."
   ]
  },
  {
   "cell_type": "markdown",
   "metadata": {},
   "source": [
    "***Data 2 : Postal Code Data***\n",
    "<Br>To get the coordinates (Latitude,Longitude) of each tehsil/neighborhood of District/Borough, we will use geocoder class library which takes query as address and postal codes and gives output as coordinates of neighborhood.\n",
    "To get postal codes of each tehsil, we will use data set available from website: http://www.egreenwatch.nic.in/Masters/Public/TehsilView.aspx?SID=10'"
   ]
  },
  {
   "cell_type": "markdown",
   "metadata": {},
   "source": [
    "***Data 3 :Foursquare API***\n",
    "<Br>Delhi City geographical coordinates data will be utilized as input for the Foursquare API, that will be leveraged to provision venues information for each neighborhood.We will use the Foursquare API to explore neighborhoods in Delhi City.\n",
    "    FourSquare API is used to get location coordinates of each Tehsil, venues in the neighbourhood of each Tehsil, user ratings of those venues etc. This data will be used to define clusters of Tehsils in which a fashion retail store can be set up.\n"
   ]
  }
 ],
 "metadata": {
  "kernelspec": {
   "display_name": "Python 3",
   "language": "python",
   "name": "python3"
  },
  "language_info": {
   "codemirror_mode": {
    "name": "ipython",
    "version": 3
   },
   "file_extension": ".py",
   "mimetype": "text/x-python",
   "name": "python",
   "nbconvert_exporter": "python",
   "pygments_lexer": "ipython3",
   "version": "3.7.6"
  }
 },
 "nbformat": 4,
 "nbformat_minor": 4
}
