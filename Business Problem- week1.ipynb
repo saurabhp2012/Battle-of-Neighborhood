{
 "cells": [
  {
   "cell_type": "markdown",
   "metadata": {},
   "source": [
    "#  Week 1-The Battle of the Neighborhoods \n"
   ]
  },
  {
   "cell_type": "markdown",
   "metadata": {},
   "source": [
    "### Introduction & Business Problem :"
   ]
  },
  {
   "cell_type": "markdown",
   "metadata": {},
   "source": [
    "###  Problem Background:"
   ]
  },
  {
   "cell_type": "markdown",
   "metadata": {},
   "source": [
    "<p> The Indian retail Industry has emerged as one of the most dynamic and fast – growing industries due to the entry of several new players in the recent times along with rising income levels, growing aspirations, favorable demographics and easy credit availability. It constitutes over 10% of the country’s Gross Domestic Product (GDP) and around 8% of the employment and\n",
    "is valued at USD 672 billion, Globally, India is fifth – largest global destination in the rectal space which growing at a rate of 12% per annum.The major Popular Indian retailers are Shopper Stop, Reliance fresh, Big Bazaar. Pantaloons Retail India\n",
    "Ltd, Ebony, Piramyd, Globus, Vishal Mega Mart, More and Subhiksha.\n",
    "    \n",
    " The city of Delhi continues to be enamoured with fashion and glamour. The people of the city are known for their flamboyant taste in food, clothing, colours and weddings.The city is a mixed bag of ethnicities and cultures, which is evident in the varied preferences in terms of product and price, among the consumers. Because of this varied consumer mix, the shopping choices and destinations available in the city are massive, which makes Delhi the perfect shopping destination. The city provides shopping opportunities to all consumer segments irrespective of age, gender, budget, preference of brand, and retail experience."
   ]
  },
  {
   "cell_type": "markdown",
   "metadata": {},
   "source": [
    "### Problem Description:"
   ]
  },
  {
   "cell_type": "markdown",
   "metadata": {},
   "source": [
    "Retail is the process of selling consumer goods or services to customers through multiple channels of distribution to earn a profit. Retailers satisfy demand identified through a supply chain. The term \"retailer\" is typically applied where a service provider fills the small orders of many individuals, who are end-users, rather than large orders of a small number of wholesale, corporate or government clientele.<Br> \n",
    "Retail business is highly profitable. There is an ever increasing demand for retail items from consumers. But there is a tough competition from new as well as established retail store in the retail market. So, if any company is planning to launch a retail store, know that it will run successfully depending on varoius factors.Following points should be considered before starting retail store.<Br>\n",
    "    1.Create your mission statement<Br>\n",
    "    2.Know how to present your business<Br>\n",
    "    3.Figure out your finances<Br>\n",
    "    4.Plan for customer service<Br>\n",
    "    5.Investigate your space<Br>\n",
    "    6.Find a location with good traffic<Br>\n",
    "    7.Design the right store layout<Br>\n",
    "    8.Take care of legal paperwork<Br>\n",
    "    9.Finalize your products<Br>\n",
    "    10.Network with potential customers<Br>\n",
    "    \n",
    "In this project we will be focusing on finding a right location with good traffic for any company who is planning to open a retail store in Delhi, India. Store location should be such that it attracts a lot of traffic all the time. A place where people like to hang out,eat and chill  is ideal for retail stores. Thereby choice of location is very important.\n"
   ]
  },
  {
   "cell_type": "code",
   "execution_count": null,
   "metadata": {},
   "outputs": [],
   "source": []
  }
 ],
 "metadata": {
  "kernelspec": {
   "display_name": "Python 3",
   "language": "python",
   "name": "python3"
  },
  "language_info": {
   "codemirror_mode": {
    "name": "ipython",
    "version": 3
   },
   "file_extension": ".py",
   "mimetype": "text/x-python",
   "name": "python",
   "nbconvert_exporter": "python",
   "pygments_lexer": "ipython3",
   "version": "3.7.6"
  }
 },
 "nbformat": 4,
 "nbformat_minor": 4
}
